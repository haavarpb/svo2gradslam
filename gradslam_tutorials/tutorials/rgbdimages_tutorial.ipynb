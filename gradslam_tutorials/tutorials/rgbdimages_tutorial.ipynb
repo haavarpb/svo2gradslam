{
 "cells": [
  {
   "cell_type": "markdown",
   "metadata": {},
   "source": [
    "# Prerequisits\n",
    "\n",
    "This tutorial is adapted from the `gradslam` repository. With it, we can explore the functionality of `gradslam` with Stereolabs own `SVO` file format as a dataset."
   ]
  },
  {
   "cell_type": "code",
   "execution_count": null,
   "metadata": {},
   "outputs": [],
   "source": [
    "import gradslam as gs\n",
    "import matplotlib.pyplot as plt\n",
    "import numpy as np\n",
    "import pyzed.sl as sl\n",
    "import torch\n",
    "from gradslam import Pointclouds, RGBDImages\n",
    "from gradslam.slam import PointFusion\n",
    "from torch.utils.data import DataLoader\n",
    "\n",
    "from svo2gradslam.svo_dataset import SVOIterableDataset, sofa_filepath"
   ]
  },
  {
   "cell_type": "markdown",
   "metadata": {},
   "source": [
    "# Load dataset\n",
    "\n",
    "This package comes with a sample dataset, namely the `sofa.svo`. Others are available [here](https://support.stereolabs.com/hc/en-us/articles/1500009269601-Are-there-any-video-image-samples-from-the-ZED-products-that-I-can-see-and-test-before-the-purchase).\n",
    "\n",
    "The dataset is implemented as a [`torch.utils.data.IterableDataset`](https://pytorch.org/docs/stable/data.html#iterable-style-datasets). It only supports iteration, as I found that seeking through the `svo` file took a lot of extra time. As a consequence, `__getitem__` is not implemented."
   ]
  },
  {
   "cell_type": "code",
   "execution_count": null,
   "metadata": {},
   "outputs": [
    {
     "name": "stdout",
     "output_type": "stream",
     "text": [
      "len(dataset)=5\n",
      "[2025-04-29 11:08:20 UTC][ZED][INFO] Logging level INFO\n",
      "[2025-04-29 11:08:20 UTC][ZED][INFO] Logging level INFO\n",
      "dataset.idx_2_svo_frame_num(idx)=0\n",
      "dataset.idx_2_svo_frame_num(idx)=100\n",
      "dataset.idx_2_svo_frame_num(idx)=200\n",
      "dataset.idx_2_svo_frame_num(idx)=300\n",
      "dataset.idx_2_svo_frame_num(idx)=400\n",
      "dataset.idx_2_svo_frame_num(idx)=500\n"
     ]
    }
   ],
   "source": [
    "svo_file = sofa_filepath()\n",
    "dataset = SVOIterableDataset(str(svo_file), depth_mode=sl.DEPTH_MODE.NEURAL, stride=100, start=0, end=500, desired_height=100, desired_width=150)\n",
    "\n",
    "print(f'{len(dataset)=}')\n",
    "\n",
    "for idx, (color, depth, intrinsics) in enumerate(dataset):\n",
    "    image = color\n",
    "    depth = depth\n",
    "    print(f\"{dataset.idx_2_svo_frame_num(idx)=}\")"
   ]
  },
  {
   "cell_type": "markdown",
   "metadata": {},
   "source": [
    "# Batch loading using torch's DataLoader"
   ]
  },
  {
   "cell_type": "code",
   "execution_count": null,
   "metadata": {},
   "outputs": [
    {
     "data": {
      "text/plain": [
       "torch.Size([5, 100, 150, 3])"
      ]
     },
     "execution_count": null,
     "metadata": {},
     "output_type": "execute_result"
    }
   ],
   "source": [
    "# load dataset\n",
    "loader = DataLoader(dataset=dataset, batch_size=5)\n",
    "colors, depths, intrinsics = next(iter(loader))\n",
    "\n",
    "colors.size()\n"
   ]
  },
  {
   "cell_type": "code",
   "execution_count": null,
   "metadata": {},
   "outputs": [
    {
     "data": {
      "application/vnd.plotly.v1+json": {
       "config": {
        "plotlyServerURL": "https://plot.ly"
       },
       "data": [
        {
         "hovertemplate": "x: %{x}<br>y: %{y}<br>color: [%{z[0]}, %{z[1]}, %{z[2]}]<extra></extra>",
         "name": "0",
         "source": "data:image/jpeg;base64,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",
         "type": "image",
         "xaxis": "x",
         "yaxis": "y"
        },
        {
         "hovertemplate": "x: %{x}<br>y: %{y}<br>depth: %{z[0]}<br>scale: x0.01<br><extra></extra>",
         "name": "0",
         "source": "data:image/jpeg;base64,/9j/4AAQSkZJRgABAQAAAQABAAD/2wBDAAIBAQEBAQIBAQECAgICAgQDAgICAgUEBAMEBgUGBgYFBgYGBwkIBgcJBwYGCAsICQoKCgoKBggLDAsKDAkKCgr/wAALCABkAJYBAREA/8QAHwAAAQUBAQEBAQEAAAAAAAAAAAECAwQFBgcICQoL/8QAtRAAAgEDAwIEAwUFBAQAAAF9AQIDAAQRBRIhMUEGE1FhByJxFDKBkaEII0KxwRVS0fAkM2JyggkKFhcYGRolJicoKSo0NTY3ODk6Q0RFRkdISUpTVFVWV1hZWmNkZWZnaGlqc3R1dnd4eXqDhIWGh4iJipKTlJWWl5iZmqKjpKWmp6ipqrKztLW2t7i5usLDxMXGx8jJytLT1NXW19jZ2uHi4+Tl5ufo6erx8vP09fb3+Pn6/9oACAEBAAA/APwg/srTo7sM77n5ZLbK4PGOFwPT9Kt6QLbS9XW1jmEazlVWFpABkDqB1yenbJB6naK6tOlSJ90VLH1Gamj71PGeR9Kni7VYi7VYh6fhVqP7tOpHOBVeY5/Oqk1VZRzwKrv1Bqu/Som+8a5FrSzErXcqgNswZCxyoAPQ/wAPfpilhuop54JbSQ7hIuGQo2eQWTOcA45PPbIzg10sLh03YI9iORUyfdFSrnIqaPvU8Z6fSp4u1WIu1WYhj8qnaTYppQzEZpkkhXrzUbHcufeq01VZcZ/GqzjjNQSd/rUL/erlgcHNT2WJjHcA/KMllzzu6YODjjkEc8/StxOVB9qkT7oqZPvCpU6E1PF2+lTxcYqxF2qzF/SpJQSvFPibC81HNzTP4PxqvPzk1Ul6/jVd+n41DL3qB/vVyrOEUsUZvRVHJNW4HEZA3A/jWvbsXgR2QqSgJVsZHHQ4qZRwKmT71Sp0/Gp06/hViIdPpViL+lWYRnFSyDCg1JEuY8+1RTYCkflUR+4PrVaaq0v9arP0/GoJe/1qF/vGuWhntJGRUuEbzM+XtcfNjrj1p1+XsrSS7hjMhjXcULgZA68/TJrT0S+nvLeOaVXEcsQeBniIyMkHnoTx0/HkEVpjAxUqfeqVOn41YTrU8X9KsxDtVmIc/jUsn+rFSQn91zUM2WHFRsMJjNVZe9Vpf61Wk7VBL/WoX+8a5O0tJQ73E0MaP5jCMxjkpnIyfU9fxq1FFI8Hk3jrISCH+TAI9MHNXLFNlwguJZUA3GGJQVj9yQOC2WY++e5UGtVRkAVKnWpoxkfU1PH3qwnerEbAHkgc1ZhdDjDD86ll+4PpUkPCEH0qKX+tRyA7aqTVWl/rVeUfzqvIMA1C/Wub85w67BkFvm47YPvxzj1/qJoHL5Dr0OK1bXm3TPpVlMAiiWVowVXqR1pi3ExH+sNSLNJnmQ/nUwdnHzNnHrUsbnbU8TlcEMa0INQCxBZgTjvVqPUrBkIFyoI/vcfzpHdXIKnIPIIpJfu/hVSfjiq0veq0v9agl71A/X8K51ITjripY4yvINaln80CCrKjLCq15OI5yGpYXV1yrZFTL90VKkirwzDp3NSJPGBjcKkW8jUYp41JQNoFNadZui4rbtBi1iH/AEzH8qklHyA+1VZ+/wCNVZe9V5R1qvIOtQv1rBHSnr90Voaecwj2Jq2nWs/WVxJn1ANV7Sd4WO09R0qx9rfuacJ5CcZp6M56k1KgJwM1Kg5q3a280zBEjPIzk+lbyeXGgRWAAGBzSySxsMBqrTEHODVWXvVeXvUEnf6VBJ2rBqQdBV/Tf9T+Jq0h5qDVrcy2/mKMleo9qy4xU6gE8mpU64xVqCyupQMRkDPVuKuRadEhzNNk46KP61Zi+ywD5Ihkdzyaf9uG8Nu6ZHNKb9T/ABUn24/36y7rxBetIfJkCqOnA/rTE8RXY4kVX55JGD+lWINXt7o+Wco5PAPQ/jUknU/SoXBI4rAqSrtg4WLr3qx5y0G4BGD0PrWe9mVm8tGGGOQTVqGzt0wZHLY7dKsRyQw/6pAPcdaeb33/AFpDeE/xU03Zz1o+1H1pPtR/vGl+1HGM1nzAg496idjnANNBI6Vp2d68luvmNkjgk09rnPSsUdRUlTQybVwad5w9qPOHtSGX5w3pTvP9TR5/vR55/vUeef71Hnn1o88/3qTzqPOpHdXHNROpzkU0AnoKnjk8tAoNL51U6epyM0tGT6mjJ9TRk+poZ2AyDQrsRkmjJ9TRk+poyfU0ZPXNGT6mjJ9TRk+tBJPU0hJAyKC7bttIrEnBr//Z",
         "type": "image",
         "xaxis": "x2",
         "yaxis": "y2"
        }
       ],
       "frames": [
        {
         "data": [
          {
           "hovertemplate": "x: %{x}<br>y: %{y}<br>color: [%{z[0]}, %{z[1]}, %{z[2]}]<extra></extra>",
           "name": "0",
           "source": "data:image/jpeg;base64,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",
           "type": "image"
          },
          {
           "hovertemplate": "x: %{x}<br>y: %{y}<br>depth: %{z[0]}<br>scale: x0.01<br><extra></extra>",
           "name": "0",
           "source": "data:image/jpeg;base64,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",
           "type": "image"
          }
         ],
         "name": "0",
         "traces": [
          0,
          1
         ]
        }
       ],
       "layout": {
        "annotations": [
         {
          "font": {
           "size": 16
          },
          "showarrow": false,
          "text": "RGB",
          "x": 0.5,
          "xanchor": "center",
          "xref": "paper",
          "y": 1,
          "yanchor": "bottom",
          "yref": "paper"
         },
         {
          "font": {
           "size": 16
          },
          "showarrow": false,
          "text": "Depth",
          "x": 0.5,
          "xanchor": "center",
          "xref": "paper",
          "y": 0.45,
          "yanchor": "bottom",
          "yref": "paper"
         }
        ],
        "autosize": false,
        "height": 1080,
        "scene": {
         "aspectmode": "data"
        },
        "sliders": [
         {
          "active": 0,
          "currentvalue": {
           "prefix": "Frame: "
          },
          "len": 0.9,
          "pad": {
           "b": 10,
           "t": 60
          },
          "steps": [
           {
            "args": [
             [
              0
             ],
             {
              "frame": {
               "duration": 0,
               "redraw": true
              },
              "fromcurrent": true,
              "mode": "immediate",
              "transition": {
               "duration": 0,
               "easing": "linear"
              }
             }
            ],
            "label": "0",
            "method": "animate"
           }
          ],
          "x": 0.1,
          "xanchor": "left",
          "y": 0,
          "yanchor": "top"
         }
        ],
        "template": {
         "data": {
          "bar": [
           {
            "error_x": {
             "color": "#2a3f5f"
            },
            "error_y": {
             "color": "#2a3f5f"
            },
            "marker": {
             "line": {
              "color": "#E5ECF6",
              "width": 0.5
             },
             "pattern": {
              "fillmode": "overlay",
              "size": 10,
              "solidity": 0.2
             }
            },
            "type": "bar"
           }
          ],
          "barpolar": [
           {
            "marker": {
             "line": {
              "color": "#E5ECF6",
              "width": 0.5
             },
             "pattern": {
              "fillmode": "overlay",
              "size": 10,
              "solidity": 0.2
             }
            },
            "type": "barpolar"
           }
          ],
          "carpet": [
           {
            "aaxis": {
             "endlinecolor": "#2a3f5f",
             "gridcolor": "white",
             "linecolor": "white",
             "minorgridcolor": "white",
             "startlinecolor": "#2a3f5f"
            },
            "baxis": {
             "endlinecolor": "#2a3f5f",
             "gridcolor": "white",
             "linecolor": "white",
             "minorgridcolor": "white",
             "startlinecolor": "#2a3f5f"
            },
            "type": "carpet"
           }
          ],
          "choropleth": [
           {
            "colorbar": {
             "outlinewidth": 0,
             "ticks": ""
            },
            "type": "choropleth"
           }
          ],
          "contour": [
           {
            "colorbar": {
             "outlinewidth": 0,
             "ticks": ""
            },
            "colorscale": [
             [
              0,
              "#0d0887"
             ],
             [
              0.1111111111111111,
              "#46039f"
             ],
             [
              0.2222222222222222,
              "#7201a8"
             ],
             [
              0.3333333333333333,
              "#9c179e"
             ],
             [
              0.4444444444444444,
              "#bd3786"
             ],
             [
              0.5555555555555556,
              "#d8576b"
             ],
             [
              0.6666666666666666,
              "#ed7953"
             ],
             [
              0.7777777777777778,
              "#fb9f3a"
             ],
             [
              0.8888888888888888,
              "#fdca26"
             ],
             [
              1,
              "#f0f921"
             ]
            ],
            "type": "contour"
           }
          ],
          "contourcarpet": [
           {
            "colorbar": {
             "outlinewidth": 0,
             "ticks": ""
            },
            "type": "contourcarpet"
           }
          ],
          "heatmap": [
           {
            "colorbar": {
             "outlinewidth": 0,
             "ticks": ""
            },
            "colorscale": [
             [
              0,
              "#0d0887"
             ],
             [
              0.1111111111111111,
              "#46039f"
             ],
             [
              0.2222222222222222,
              "#7201a8"
             ],
             [
              0.3333333333333333,
              "#9c179e"
             ],
             [
              0.4444444444444444,
              "#bd3786"
             ],
             [
              0.5555555555555556,
              "#d8576b"
             ],
             [
              0.6666666666666666,
              "#ed7953"
             ],
             [
              0.7777777777777778,
              "#fb9f3a"
             ],
             [
              0.8888888888888888,
              "#fdca26"
             ],
             [
              1,
              "#f0f921"
             ]
            ],
            "type": "heatmap"
           }
          ],
          "heatmapgl": [
           {
            "colorbar": {
             "outlinewidth": 0,
             "ticks": ""
            },
            "colorscale": [
             [
              0,
              "#0d0887"
             ],
             [
              0.1111111111111111,
              "#46039f"
             ],
             [
              0.2222222222222222,
              "#7201a8"
             ],
             [
              0.3333333333333333,
              "#9c179e"
             ],
             [
              0.4444444444444444,
              "#bd3786"
             ],
             [
              0.5555555555555556,
              "#d8576b"
             ],
             [
              0.6666666666666666,
              "#ed7953"
             ],
             [
              0.7777777777777778,
              "#fb9f3a"
             ],
             [
              0.8888888888888888,
              "#fdca26"
             ],
             [
              1,
              "#f0f921"
             ]
            ],
            "type": "heatmapgl"
           }
          ],
          "histogram": [
           {
            "marker": {
             "pattern": {
              "fillmode": "overlay",
              "size": 10,
              "solidity": 0.2
             }
            },
            "type": "histogram"
           }
          ],
          "histogram2d": [
           {
            "colorbar": {
             "outlinewidth": 0,
             "ticks": ""
            },
            "colorscale": [
             [
              0,
              "#0d0887"
             ],
             [
              0.1111111111111111,
              "#46039f"
             ],
             [
              0.2222222222222222,
              "#7201a8"
             ],
             [
              0.3333333333333333,
              "#9c179e"
             ],
             [
              0.4444444444444444,
              "#bd3786"
             ],
             [
              0.5555555555555556,
              "#d8576b"
             ],
             [
              0.6666666666666666,
              "#ed7953"
             ],
             [
              0.7777777777777778,
              "#fb9f3a"
             ],
             [
              0.8888888888888888,
              "#fdca26"
             ],
             [
              1,
              "#f0f921"
             ]
            ],
            "type": "histogram2d"
           }
          ],
          "histogram2dcontour": [
           {
            "colorbar": {
             "outlinewidth": 0,
             "ticks": ""
            },
            "colorscale": [
             [
              0,
              "#0d0887"
             ],
             [
              0.1111111111111111,
              "#46039f"
             ],
             [
              0.2222222222222222,
              "#7201a8"
             ],
             [
              0.3333333333333333,
              "#9c179e"
             ],
             [
              0.4444444444444444,
              "#bd3786"
             ],
             [
              0.5555555555555556,
              "#d8576b"
             ],
             [
              0.6666666666666666,
              "#ed7953"
             ],
             [
              0.7777777777777778,
              "#fb9f3a"
             ],
             [
              0.8888888888888888,
              "#fdca26"
             ],
             [
              1,
              "#f0f921"
             ]
            ],
            "type": "histogram2dcontour"
           }
          ],
          "mesh3d": [
           {
            "colorbar": {
             "outlinewidth": 0,
             "ticks": ""
            },
            "type": "mesh3d"
           }
          ],
          "parcoords": [
           {
            "line": {
             "colorbar": {
              "outlinewidth": 0,
              "ticks": ""
             }
            },
            "type": "parcoords"
           }
          ],
          "pie": [
           {
            "automargin": true,
            "type": "pie"
           }
          ],
          "scatter": [
           {
            "fillpattern": {
             "fillmode": "overlay",
             "size": 10,
             "solidity": 0.2
            },
            "type": "scatter"
           }
          ],
          "scatter3d": [
           {
            "line": {
             "colorbar": {
              "outlinewidth": 0,
              "ticks": ""
             }
            },
            "marker": {
             "colorbar": {
              "outlinewidth": 0,
              "ticks": ""
             }
            },
            "type": "scatter3d"
           }
          ],
          "scattercarpet": [
           {
            "marker": {
             "colorbar": {
              "outlinewidth": 0,
              "ticks": ""
             }
            },
            "type": "scattercarpet"
           }
          ],
          "scattergeo": [
           {
            "marker": {
             "colorbar": {
              "outlinewidth": 0,
              "ticks": ""
             }
            },
            "type": "scattergeo"
           }
          ],
          "scattergl": [
           {
            "marker": {
             "colorbar": {
              "outlinewidth": 0,
              "ticks": ""
             }
            },
            "type": "scattergl"
           }
          ],
          "scattermapbox": [
           {
            "marker": {
             "colorbar": {
              "outlinewidth": 0,
              "ticks": ""
             }
            },
            "type": "scattermapbox"
           }
          ],
          "scatterpolar": [
           {
            "marker": {
             "colorbar": {
              "outlinewidth": 0,
              "ticks": ""
             }
            },
            "type": "scatterpolar"
           }
          ],
          "scatterpolargl": [
           {
            "marker": {
             "colorbar": {
              "outlinewidth": 0,
              "ticks": ""
             }
            },
            "type": "scatterpolargl"
           }
          ],
          "scatterternary": [
           {
            "marker": {
             "colorbar": {
              "outlinewidth": 0,
              "ticks": ""
             }
            },
            "type": "scatterternary"
           }
          ],
          "surface": [
           {
            "colorbar": {
             "outlinewidth": 0,
             "ticks": ""
            },
            "colorscale": [
             [
              0,
              "#0d0887"
             ],
             [
              0.1111111111111111,
              "#46039f"
             ],
             [
              0.2222222222222222,
              "#7201a8"
             ],
             [
              0.3333333333333333,
              "#9c179e"
             ],
             [
              0.4444444444444444,
              "#bd3786"
             ],
             [
              0.5555555555555556,
              "#d8576b"
             ],
             [
              0.6666666666666666,
              "#ed7953"
             ],
             [
              0.7777777777777778,
              "#fb9f3a"
             ],
             [
              0.8888888888888888,
              "#fdca26"
             ],
             [
              1,
              "#f0f921"
             ]
            ],
            "type": "surface"
           }
          ],
          "table": [
           {
            "cells": {
             "fill": {
              "color": "#EBF0F8"
             },
             "line": {
              "color": "white"
             }
            },
            "header": {
             "fill": {
              "color": "#C8D4E3"
             },
             "line": {
              "color": "white"
             }
            },
            "type": "table"
           }
          ]
         },
         "layout": {
          "annotationdefaults": {
           "arrowcolor": "#2a3f5f",
           "arrowhead": 0,
           "arrowwidth": 1
          },
          "autotypenumbers": "strict",
          "coloraxis": {
           "colorbar": {
            "outlinewidth": 0,
            "ticks": ""
           }
          },
          "colorscale": {
           "diverging": [
            [
             0,
             "#8e0152"
            ],
            [
             0.1,
             "#c51b7d"
            ],
            [
             0.2,
             "#de77ae"
            ],
            [
             0.3,
             "#f1b6da"
            ],
            [
             0.4,
             "#fde0ef"
            ],
            [
             0.5,
             "#f7f7f7"
            ],
            [
             0.6,
             "#e6f5d0"
            ],
            [
             0.7,
             "#b8e186"
            ],
            [
             0.8,
             "#7fbc41"
            ],
            [
             0.9,
             "#4d9221"
            ],
            [
             1,
             "#276419"
            ]
           ],
           "sequential": [
            [
             0,
             "#0d0887"
            ],
            [
             0.1111111111111111,
             "#46039f"
            ],
            [
             0.2222222222222222,
             "#7201a8"
            ],
            [
             0.3333333333333333,
             "#9c179e"
            ],
            [
             0.4444444444444444,
             "#bd3786"
            ],
            [
             0.5555555555555556,
             "#d8576b"
            ],
            [
             0.6666666666666666,
             "#ed7953"
            ],
            [
             0.7777777777777778,
             "#fb9f3a"
            ],
            [
             0.8888888888888888,
             "#fdca26"
            ],
            [
             1,
             "#f0f921"
            ]
           ],
           "sequentialminus": [
            [
             0,
             "#0d0887"
            ],
            [
             0.1111111111111111,
             "#46039f"
            ],
            [
             0.2222222222222222,
             "#7201a8"
            ],
            [
             0.3333333333333333,
             "#9c179e"
            ],
            [
             0.4444444444444444,
             "#bd3786"
            ],
            [
             0.5555555555555556,
             "#d8576b"
            ],
            [
             0.6666666666666666,
             "#ed7953"
            ],
            [
             0.7777777777777778,
             "#fb9f3a"
            ],
            [
             0.8888888888888888,
             "#fdca26"
            ],
            [
             1,
             "#f0f921"
            ]
           ]
          },
          "colorway": [
           "#636efa",
           "#EF553B",
           "#00cc96",
           "#ab63fa",
           "#FFA15A",
           "#19d3f3",
           "#FF6692",
           "#B6E880",
           "#FF97FF",
           "#FECB52"
          ],
          "font": {
           "color": "#2a3f5f"
          },
          "geo": {
           "bgcolor": "white",
           "lakecolor": "white",
           "landcolor": "#E5ECF6",
           "showlakes": true,
           "showland": true,
           "subunitcolor": "white"
          },
          "hoverlabel": {
           "align": "left"
          },
          "hovermode": "closest",
          "mapbox": {
           "style": "light"
          },
          "paper_bgcolor": "white",
          "plot_bgcolor": "#E5ECF6",
          "polar": {
           "angularaxis": {
            "gridcolor": "white",
            "linecolor": "white",
            "ticks": ""
           },
           "bgcolor": "#E5ECF6",
           "radialaxis": {
            "gridcolor": "white",
            "linecolor": "white",
            "ticks": ""
           }
          },
          "scene": {
           "xaxis": {
            "backgroundcolor": "#E5ECF6",
            "gridcolor": "white",
            "gridwidth": 2,
            "linecolor": "white",
            "showbackground": true,
            "ticks": "",
            "zerolinecolor": "white"
           },
           "yaxis": {
            "backgroundcolor": "#E5ECF6",
            "gridcolor": "white",
            "gridwidth": 2,
            "linecolor": "white",
            "showbackground": true,
            "ticks": "",
            "zerolinecolor": "white"
           },
           "zaxis": {
            "backgroundcolor": "#E5ECF6",
            "gridcolor": "white",
            "gridwidth": 2,
            "linecolor": "white",
            "showbackground": true,
            "ticks": "",
            "zerolinecolor": "white"
           }
          },
          "shapedefaults": {
           "line": {
            "color": "#2a3f5f"
           }
          },
          "ternary": {
           "aaxis": {
            "gridcolor": "white",
            "linecolor": "white",
            "ticks": ""
           },
           "baxis": {
            "gridcolor": "white",
            "linecolor": "white",
            "ticks": ""
           },
           "bgcolor": "#E5ECF6",
           "caxis": {
            "gridcolor": "white",
            "linecolor": "white",
            "ticks": ""
           }
          },
          "title": {
           "x": 0.05
          },
          "xaxis": {
           "automargin": true,
           "gridcolor": "white",
           "linecolor": "white",
           "ticks": "",
           "title": {
            "standoff": 15
           },
           "zerolinecolor": "white",
           "zerolinewidth": 2
          },
          "yaxis": {
           "automargin": true,
           "gridcolor": "white",
           "linecolor": "white",
           "ticks": "",
           "title": {
            "standoff": 15
           },
           "zerolinecolor": "white",
           "zerolinewidth": 2
          }
         }
        },
        "updatemenus": [
         {
          "buttons": [
           {
            "args": [
             null,
             {
              "frame": {
               "duration": 50,
               "redraw": true
              },
              "fromcurrent": true,
              "mode": "immediate",
              "transition": {
               "duration": 50,
               "easing": "linear"
              }
             }
            ],
            "label": "&#9654;",
            "method": "animate"
           },
           {
            "args": [
             [
              null
             ],
             {
              "frame": {
               "duration": 0,
               "redraw": true
              },
              "fromcurrent": true,
              "mode": "immediate",
              "transition": {
               "duration": 0,
               "easing": "linear"
              }
             }
            ],
            "label": "&#9724;",
            "method": "animate"
           }
          ],
          "direction": "left",
          "pad": {
           "r": 10,
           "t": 70
          },
          "showactive": false,
          "type": "buttons",
          "x": 0.1,
          "xanchor": "right",
          "y": 0,
          "yanchor": "top"
         }
        ],
        "xaxis": {
         "anchor": "y",
         "domain": [
          0,
          1
         ],
         "matches": "x2",
         "showticklabels": false
        },
        "xaxis2": {
         "anchor": "y2",
         "domain": [
          0,
          1
         ]
        },
        "yaxis": {
         "anchor": "x",
         "domain": [
          0.55,
          1
         ]
        },
        "yaxis2": {
         "anchor": "x2",
         "domain": [
          0,
          0.45
         ]
        }
       }
      }
     },
     "metadata": {},
     "output_type": "display_data"
    }
   ],
   "source": [
    "# create rgbdimages object\n",
    "colors = colors.reshape((colors.size()[0], 1, *colors.size()[1:]))\n",
    "depths = depths.reshape((depths.size()[0], 1, *depths.size()[1:]))\n",
    "intrinsics = intrinsics.reshape((intrinsics.size()[0], 1, *intrinsics.size()[1:]))\n",
    "rgbdimages = RGBDImages(colors, depths, intrinsics)\n",
    "rgbdimages.plotly(0).show()"
   ]
  },
  {
   "cell_type": "markdown",
   "metadata": {},
   "source": [
    "# Instantiation\n",
    "\n",
    "> **_NOTE:_**  Make sure to have ran the [prerequisits](#Prerequisits) section before running this section.\n",
    "\n",
    "The `RGBDImages` structures aims to contain batched frame tensors to more easily pass on to SLAM algorithms. It also supports easy computation of (both local and global) vertex maps and normal maps.\n",
    "\n",
    "An `RGBDImages` object can be initialized from rgb images, depth images, instrinsics and (optionally) poses. `RGBDImages` supports both a channels first and a channels last representation."
   ]
  },
  {
   "cell_type": "code",
   "execution_count": null,
   "metadata": {},
   "outputs": [
    {
     "name": "stdout",
     "output_type": "stream",
     "text": [
      "colors shape: torch.Size([5, 1, 100, 150, 3])\n",
      "depths shape: torch.Size([5, 1, 100, 150, 1])\n",
      "intrinsics shape: torch.Size([5, 1, 4, 4])\n",
      "---\n",
      "(5, 1, 100, 150)\n",
      "---\n"
     ]
    }
   ],
   "source": [
    "print(f\"colors shape: {colors.shape}\")  # torch.Size([2, 8, 240, 320, 3])\n",
    "print(f\"depths shape: {depths.shape}\")  # torch.Size([2, 8, 240, 320, 1])\n",
    "print(f\"intrinsics shape: {intrinsics.shape}\")  # torch.Size([2, 1, 4, 4])\n",
    "print('---')\n",
    "\n",
    "# instantiation without poses\n",
    "rgbdimages = RGBDImages(colors, depths, intrinsics)\n",
    "print(rgbdimages.shape)  # (2, 8, 240, 320)\n",
    "print('---')\n"
   ]
  },
  {
   "cell_type": "markdown",
   "metadata": {},
   "source": [
    "# Indexing and slicing\n",
    "\n",
    "> **_NOTE:_**  Make sure to have ran the [prerequisits](#Prerequisits) section before running this section.\n",
    "\n",
    "Basic indexing and slicing of `RGBDImages` over the first (batch) dimension and the second (sequence length) dimension is supported."
   ]
  },
  {
   "cell_type": "code",
   "execution_count": null,
   "metadata": {},
   "outputs": [
    {
     "name": "stdout",
     "output_type": "stream",
     "text": [
      "(1, 1, 100, 150)\n",
      "---\n",
      "(2, 1, 100, 150)\n",
      "---\n"
     ]
    }
   ],
   "source": [
    "# initalize RGBDImages\n",
    "rgbdimages = RGBDImages(colors, depths, intrinsics)\n",
    "\n",
    "# indexing\n",
    "rgbdimages0 = rgbdimages[0, 0]\n",
    "print(rgbdimages0.shape)  # (1, 1, 240, 320)\n",
    "print('---')\n",
    "\n",
    "# slicing\n",
    "rgbdimages1 = rgbdimages[:2, :5]\n",
    "print(rgbdimages1.shape)  # (2, 5, 240, 320)\n",
    "print('---')"
   ]
  },
  {
   "cell_type": "markdown",
   "metadata": {},
   "source": [
    "# Vertex maps and normal maps\n",
    "\n",
    "> **_NOTE:_**  Make sure to have ran the [prerequisits](#Prerequisits) section before running this section.\n",
    "\n",
    "This section demonstrates accessing vertex maps and normal maps from `RGBDImages`. Vertex maps are computed when accessing the `RGBDImages.vertex_maps` property, and are cached afterwards for additional access without further computation (and similarly with normal maps).\n",
    "\n",
    "`RGBDImages` has both a local vertex map property (`RGBDImages.vertex_map`) which computes vertex positions with respect to each frame, as well as global vertex map (`RGBDImages.global_vertex_map`) which considers the poses of the `RGBDImages` object to compute the global vertex positions. A similar story is true for `RGBDimages.normal_map` and `RGBDImages.global_normal_map`."
   ]
  },
  {
   "cell_type": "code",
   "execution_count": null,
   "metadata": {},
   "outputs": [
    {
     "name": "stdout",
     "output_type": "stream",
     "text": [
      "torch.Size([5, 1, 100, 150, 3])\n",
      "torch.Size([5, 1, 100, 150, 3])\n",
      "torch.Size([5, 1, 100, 150, 3])\n",
      "torch.Size([5, 1, 100, 150, 3])\n",
      "---\n"
     ]
    },
    {
     "data": {
      "image/png": "[encoded data removed]",
      "text/plain": [
       "<Figure size 640x480 with 2 Axes>"
      ]
     },
     "metadata": {},
     "output_type": "display_data"
    }
   ],
   "source": [
    "import warnings\n",
    "warnings.simplefilter('ignore')\n",
    "# initalize RGBDImages\n",
    "rgbdimages = RGBDImages(colors, depths, intrinsics)\n",
    "\n",
    "# compute vertex maps and normal maps\n",
    "print(rgbdimages.vertex_map.shape)  # torch.Size([2, 8, 240, 320, 3])\n",
    "print(rgbdimages.normal_map.shape)  # torch.Size([2, 8, 240, 320, 3])\n",
    "print(rgbdimages.global_vertex_map.shape)  # torch.Size([2, 8, 240, 320, 3])\n",
    "print(rgbdimages.global_normal_map.shape)  # torch.Size([2, 8, 240, 320, 3])\n",
    "print('---')\n",
    "\n",
    "# visualize\n",
    "fig, ax = plt.subplots(1, 2)\n",
    "ax[0].title.set_text('local normal map')\n",
    "ax[0].imshow((rgbdimages.normal_map[-1, -1].numpy() * 255).astype(np.uint8))\n",
    "ax[1].title.set_text('global normal map')\n",
    "ax[1].imshow((rgbdimages.global_normal_map[-1, -1].numpy() * 255).astype(np.uint8))\n",
    "plt.show()"
   ]
  },
  {
   "cell_type": "markdown",
   "metadata": {},
   "source": [
    "# Transfer between GPU/CPU\n",
    "\n",
    "> **_NOTE:_**  Make sure to have ran the [prerequisits](#Prerequisits) section before running this section.\n",
    "\n",
    "`RGBDImages` support easy transfer between CPU and GPU. This operation transfers all tensors in the `RGBDImages` objects between CPU/GPU."
   ]
  },
  {
   "cell_type": "code",
   "execution_count": null,
   "metadata": {},
   "outputs": [
    {
     "name": "stdout",
     "output_type": "stream",
     "text": [
      "cuda:0\n",
      "---\n",
      "cpu\n"
     ]
    }
   ],
   "source": [
    "# initalize RGBDImages\n",
    "rgbdimages = RGBDImages(colors, depths, intrinsics)\n",
    "\n",
    "if torch.cuda.is_available():\n",
    "    # transfer to GPU\n",
    "    rgbdimages = rgbdimages.to(\"cuda\")\n",
    "    rgbdimages = rgbdimages.cuda()  # equivalent to rgbdimages.to(\"cuda\")\n",
    "    print(rgbdimages.rgb_image.device)  # \"cuda:0\"\n",
    "    print('---')\n",
    "\n",
    "# transfer to CPU\n",
    "rgbdimages = rgbdimages.to(\"cpu\")\n",
    "rgbdimages = rgbdimages.cpu()  # equivalent to rgbdimages.to(\"cpu\")\n",
    "print(rgbdimages.rgb_image.device)  # \"cpu\""
   ]
  },
  {
   "cell_type": "markdown",
   "metadata": {},
   "source": [
    "# Detach and clone tensors\n",
    "\n",
    "> **_NOTE:_**  Make sure to have ran the [prerequisits](#Prerequisits) section before running this section.\n",
    "\n",
    "`RGBDImages.detach` returns a new `RGBDImages` object such that all internal tensors of the new object do not require grad. `RGBDImages.clone()` returns a new `RGBDImages` object such that all the internal tensors are cloned."
   ]
  },
  {
   "cell_type": "code",
   "execution_count": null,
   "metadata": {},
   "outputs": [
    {
     "name": "stdout",
     "output_type": "stream",
     "text": [
      "True\n",
      "False\n",
      "---\n",
      "True\n",
      "False\n"
     ]
    }
   ],
   "source": [
    "# initalize RGBDImages\n",
    "rgbdimages = RGBDImages(colors.requires_grad_(True),\n",
    "                        depths.requires_grad_(True),\n",
    "                        intrinsics.requires_grad_(True))\n",
    "\n",
    "# clone\n",
    "rgbdimages1 = rgbdimages.clone()\n",
    "print(torch.allclose(rgbdimages1.rgb_image, rgbdimages.rgb_image))  # True\n",
    "print(rgbdimages1.rgb_image is rgbdimages.rgb_image)  # False\n",
    "print('---')\n",
    "\n",
    "# detach\n",
    "rgbdimages2 = rgbdimages.detach()\n",
    "print(rgbdimages.rgb_image.requires_grad)  # True\n",
    "print(rgbdimages2.rgb_image.requires_grad)  # False"
   ]
  },
  {
   "cell_type": "markdown",
   "metadata": {},
   "source": [
    "# Channels first and channels last representation\n",
    "\n",
    "> **_NOTE:_**  Make sure to have ran the [prerequisits](#Prerequisits) section before running this section.\n",
    "\n",
    "`RGBDImages` supports both a channels first and a channels last representation. These representations can be transformed to one another with `to_channels_first()` and `to_channels_last()` methods."
   ]
  },
  {
   "cell_type": "code",
   "execution_count": null,
   "metadata": {},
   "outputs": [
    {
     "name": "stdout",
     "output_type": "stream",
     "text": [
      "torch.Size([5, 1, 100, 150, 3])\n",
      "---\n",
      "torch.Size([5, 1, 3, 100, 150])\n",
      "---\n",
      "torch.Size([5, 1, 100, 150, 3])\n",
      "---\n"
     ]
    }
   ],
   "source": [
    "# initalize RGBDImages\n",
    "rgbdimages = RGBDImages(colors, depths, intrinsics)\n",
    "print(rgbdimages.rgb_image.shape)  # torch.Size([2, 8, 240, 320, 3])\n",
    "print('---')\n",
    "\n",
    "# convert to channels first representation\n",
    "rgbdimages1 = rgbdimages.to_channels_first()\n",
    "print(rgbdimages1.rgb_image.shape)  # torch.Size([2, 8, 3, 240, 320])\n",
    "print('---')\n",
    "\n",
    "# convert to channels last representation\n",
    "rgbdimages2 = rgbdimages1.to_channels_last()\n",
    "print(rgbdimages2.rgb_image.shape)  # torch.Size([2, 8, 240, 320, 3])\n",
    "print('---')"
   ]
  }
 ],
 "metadata": {},
 "nbformat": 4,
 "nbformat_minor": 1
}
